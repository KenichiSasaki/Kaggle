{
 "cells": [
  {
   "cell_type": "code",
   "execution_count": 1,
   "metadata": {},
   "outputs": [
    {
     "data": {
      "text/plain": [
       "0    [U+306F, 1231, 3465, 133, 53, U+304C, 275, 165...\n",
       "1    [U+306F, 1087, 2018, 103, 65, U+304B, 1456, 18...\n",
       "2    [U+306F, 572, 1376, 125, 57, U+306E, 1551, 208...\n",
       "Name: labels, dtype: object"
      ]
     },
     "execution_count": 1,
     "metadata": {},
     "output_type": "execute_result"
    }
   ],
   "source": [
    " # -*- coding: utf-8 -*-\n",
    "import cv2\n",
    "import matplotlib.pyplot as plt\n",
    "import matplotlib.patches as mpatches\n",
    "import seaborn as sns\n",
    "import pandas as pd\n",
    "import numpy as np\n",
    "import japanize_matplotlib\n",
    "import os\n",
    "\n",
    "train_file = pd.read_csv(r\"C:\\Users\\Kenichi\\Documents\\Kaggle_Data\\kuzushiji_recognition\\train.csv\")\n",
    "\n",
    "unicode_chart = pd.read_csv(r\"C:\\Users\\Kenichi\\Documents\\Kaggle_Data\\kuzushiji_recognition\\unicode_translation.csv\")\n",
    "train_file.labels = train_file.labels.str.split(' ')\n",
    "train_file.labels.head(3)"
   ]
  },
  {
   "cell_type": "code",
   "execution_count": 2,
   "metadata": {},
   "outputs": [
    {
     "name": "stdout",
     "output_type": "stream",
     "text": [
      "['は' 'が' 'い' 'け' 'に' 'に' 'の' '工' 'こ' '三' 'の' 'や' 'と' '己' 'も' 'さ' 'の' 'の'\n",
      " '世' '細' 'そ' '人' 'け' 'れ' 'だ' '強' 'の' 'た' 'て' '俳' '根' 'か' '諧' 'れ' '子' 'を'\n",
      " '及' '者' 'ず' '避' '正' '文' 'ふ' '時' '思' 'な' 'め' '浮' 'を' '気' '職' '老' '武' '楽'\n",
      " 'も' '盲' '若' '自' 'ど' '風' 'に' '裏' '畳' '息' '序' 'し' 'し']\n"
     ]
    }
   ],
   "source": [
    "#changed the train label dimension\n",
    "label_np = np.array(train_file.labels[0])\n",
    "label_np = label_np.reshape(int(len(label_np)/5), 5)\n",
    "label_list = np.array([])\n",
    "for i in label_np[:, 0]:\n",
    "    label_list= np.append(label_list, unicode_chart.char[unicode_chart.Unicode == i])\n",
    "#label_list = pd.DataFrame(label_list, columns=[\"chart_index\", \"char\"])\n",
    "print(label_list)"
   ]
  },
  {
   "cell_type": "code",
   "execution_count": 104,
   "metadata": {},
   "outputs": [],
   "source": [
    "def get_padded_image(crop):\n",
    "    h, w, ch = crop.shape\n",
    "    if w > h:\n",
    "        crop_resize = cv2.resize(crop , (64, int(h/(w/64))))\n",
    "    else:\n",
    "        ratio = int(h/64)\n",
    "        crop_resize = cv2.resize(crop , (int(w/(h/64)), 64))\n",
    "\n",
    "    n_h, n_w, ch = crop_resize.shape\n",
    "    #print(int((64 - n_h)/2),int((64 - n_w)/2))\n",
    "    bg_color = [198, 244, 252]\n",
    "    if (64 - n_h)%2 == 0 and (64 - n_w)%2 == 0:\n",
    "        padded_img = cv2.copyMakeBorder(crop_resize,int((64 - n_h)/2), int((64 - n_h)/2), \n",
    "                                    int((64 - n_w)/2), int((64 - n_w)/2), cv2.BORDER_CONSTANT, value = bg_color)\n",
    "    elif (64 - n_h)%2 != 0 and (64 - n_w)%2 == 0:\n",
    "        padded_img = cv2.copyMakeBorder(crop_resize,int((64 - n_h)/2), int((64 - n_h)/2) + 1, \n",
    "                                    int((64 - n_w)/2), int((64 - n_w)/2), cv2.BORDER_CONSTANT, value = bg_color)\n",
    "    elif (64 - n_h)%2 == 0 and (64 - n_w)%2 != 0:\n",
    "        padded_img = cv2.copyMakeBorder(crop_resize,int((64 - n_h)/2), int((64 - n_h)/2), \n",
    "                                    int((64 - n_w)/2), int((64 - n_w)/2) + 1, cv2.BORDER_CONSTANT, value = bg_color)\n",
    "            \n",
    "    return padded_img\n",
    "for k in range(100):\n",
    "    label_np = np.array(train_file.labels[k])\n",
    "    if pd.isnull(label_np).all() == True:\n",
    "        continue\n",
    "    label_np = label_np.reshape(int(len(label_np)/5), 5)\n",
    "    label_list = np.array([])\n",
    "    for i in label_np[:, 0]:\n",
    "        label_list= np.append(label_list, unicode_chart.char[unicode_chart.Unicode == i])\n",
    "    \n",
    "    image = cv2.imread(os.path.join(r\"C:\\Users\\Kenichi\\Documents\\Kaggle_Data\\kuzushiji_recognition\\train_images\", train_file.image_id[k] + \".jpg\"))\n",
    "    img = cv2.cvtColor(image, cv2.COLOR_BGR2RGB)   \n",
    "    height, width, channels = img.shape\n",
    "\n",
    "#     fig =plt.figure(figsize=(width/200, height/200))\n",
    "#     ax = fig.add_subplot(1,1,1)\n",
    "    j = 0\n",
    "    for i in label_np:\n",
    "        rect = mpatches.Rectangle((int(i[1]), int(i[2])), int(i[3]), int(i[4]), fill=False, edgecolor='red', linewidth=1)\n",
    "        ax.add_patch(rect)\n",
    "        crop = image[ int(i[2]):int(i[2])+int(i[4]), int(i[1]):int(i[1]) + int(i[3]), :]\n",
    "        crop = get_padded_image(crop)\n",
    "#         print(crop.shape)\n",
    "        cv2.imwrite(os.path.join(\"../../Kaggle_Data/kuzushiji_recognition/cropped\", train_file.image_id[k] + \n",
    "                                 \"_\" + str(i[0]) + \"_\" + str(i[1]) + \"_\" + str(i[2]) + \"_\"\n",
    "                                 + str(i[3]) + \"_\" + str(i[4]) + \".jpg\"), crop)\n",
    "#         ax.text((int(i[1]) + int(i[3]))/width, 1 - int(i[2])/height, label_list[j],\n",
    "#                 horizontalalignment='left',fontsize=20,\n",
    "#                 verticalalignment='center',\n",
    "#                 rotation='horizontal',\n",
    "#                 transform=ax.transAxes)\n",
    "        j = j+1\n",
    "#     ax.imshow(img)\n",
    "#     plt.savefig(os.path.join(\"../../Kaggle_Data/kuzushiji_recognition/anotated\", train_file.image_id[k]+\"_anotated.jpg\"))\n",
    "#plt.show()\n"
   ]
  },
  {
   "cell_type": "code",
   "execution_count": 96,
   "metadata": {},
   "outputs": [
    {
     "name": "stdout",
     "output_type": "stream",
     "text": [
      "0 15\n"
     ]
    }
   ],
   "source": [
    "def(crop):\n",
    "    h, w, ch = crop.shape\n",
    "    if w > h:\n",
    "        crop_resize = cv2.resize(crop , (64, int(h/(w/64))))\n",
    "    else:\n",
    "        ratio = int(h/64)\n",
    "        crop_resize = cv2.resize(crop , (int(w/(h/64)), 64))\n",
    "\n",
    "    n_h, n_w, ch = crop_resize.shape\n",
    "    print(int((64 - n_h)/2),int((64 - n_w)/2))\n",
    "    bg_color = [198, 244, 252]\n",
    "    if int((64 - n_h)/2)%2 == 0 and int((64 - n_w)/2)%2 == 0:\n",
    "        padded_img = cv2.copyMakeBorder(crop_resize,int((64 - n_h)/2), int((64 - n_h)/2), \n",
    "                                    int((64 - n_w)/2), int((64 - n_w)/2), cv2.BORDER_CONSTANT, value = bg_color)\n",
    "    elif: int((64 - n_h)/2)%2 != 0 and int((64 - n_w)/2)%2 == 0:\n",
    "        padded_img = cv2.copyMakeBorder(crop_resize,int((64 - n_h)/2), int((64 - n_h)/2) + 1, \n",
    "                                    int((64 - n_w)/2), int((64 - n_w)/2), cv2.BORDER_CONSTANT, value = bg_color)\n",
    "    elif: int((64 - n_h)/2)%2 == 0 and int((64 - n_w)/2)%2 != 0:\n",
    "        padded_img = cv2.copyMakeBorder(crop_resize,int((64 - n_h)/2), int((64 - n_h)/2) + 1, \n",
    "                                    int((64 - n_w)/2), int((64 - n_w)/2) + 1, cv2.BORDER_CONSTANT, value = bg_color)\n",
    "            \n",
    "    return padded_img"
   ]
  },
  {
   "cell_type": "code",
   "execution_count": 97,
   "metadata": {},
   "outputs": [
    {
     "name": "stdout",
     "output_type": "stream",
     "text": [
      "(64, 63, 3)\n"
     ]
    },
    {
     "data": {
      "text/plain": [
       "<matplotlib.image.AxesImage at 0x1b3c87709e8>"
      ]
     },
     "execution_count": 97,
     "metadata": {},
     "output_type": "execute_result"
    },
    {
     "data": {
      "image/png": "[encoded data removed]",
      "text/plain": [
       "<Figure size 432x288 with 1 Axes>"
      ]
     },
     "metadata": {
      "needs_background": "light"
     },
     "output_type": "display_data"
    }
   ],
   "source": [
    "print(padded_img.shape)\n",
    "plt.imshow(padded_img)"
   ]
  },
  {
   "cell_type": "code",
   "execution_count": 44,
   "metadata": {},
   "outputs": [
    {
     "data": {
      "text/plain": [
       "53    う\n",
       "Name: char, dtype: object"
      ]
     },
     "execution_count": 44,
     "metadata": {},
     "output_type": "execute_result"
    }
   ],
   "source": [
    "unicode_chart.char[unicode_chart.Unicode == \"U+3046\"]"
   ]
  },
  {
   "cell_type": "code",
   "execution_count": 178,
   "metadata": {},
   "outputs": [
    {
     "data": {
      "text/plain": [
       "[1231, 3465, 133, 53]"
      ]
     },
     "execution_count": 178,
     "metadata": {},
     "output_type": "execute_result"
    }
   ],
   "source": [
    "i\n"
   ]
  },
  {
   "cell_type": "code",
   "execution_count": 72,
   "metadata": {},
   "outputs": [
    {
     "name": "stdout",
     "output_type": "stream",
     "text": [
      "0 0\n"
     ]
    }
   ],
   "source": [
    "print(int(1231/width), int(1-3465/height))"
   ]
  },
  {
   "cell_type": "code",
   "execution_count": 159,
   "metadata": {},
   "outputs": [
    {
     "name": "stdout",
     "output_type": "stream",
     "text": [
      "[1, 2, 3]\n"
     ]
    }
   ],
   "source": [
    "a = [[1,2,3],[4,5,6],[7,8,9]]\n",
    "for i in a[::7]:\n",
    "    print(i)\n"
   ]
  },
  {
   "cell_type": "code",
   "execution_count": 162,
   "metadata": {},
   "outputs": [
    {
     "data": {
      "text/plain": [
       "[[1, 2, 3], [4, 5, 6], [7, 8, 9]]"
      ]
     },
     "execution_count": 162,
     "metadata": {},
     "output_type": "execute_result"
    }
   ],
   "source": []
  },
  {
   "cell_type": "code",
   "execution_count": null,
   "metadata": {},
   "outputs": [],
   "source": []
  }
 ],
 "metadata": {
  "kernelspec": {
   "display_name": "Python 3",
   "language": "python",
   "name": "python3"
  },
  "language_info": {
   "codemirror_mode": {
    "name": "ipython",
    "version": 3
   },
   "file_extension": ".py",
   "mimetype": "text/x-python",
   "name": "python",
   "nbconvert_exporter": "python",
   "pygments_lexer": "ipython3",
   "version": "3.7.3"
  }
 },
 "nbformat": 4,
 "nbformat_minor": 2
}
